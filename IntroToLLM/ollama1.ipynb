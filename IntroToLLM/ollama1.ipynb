{
 "cells": [
  {
   "cell_type": "code",
   "execution_count": 5,
   "id": "e1739295",
   "metadata": {},
   "outputs": [],
   "source": [
    "import ollama\n",
    "import cv2 as cv"
   ]
  },
  {
   "cell_type": "code",
   "execution_count": 6,
   "id": "fbc560fd",
   "metadata": {},
   "outputs": [],
   "source": [
    "import ollama\n",
    "class SmartAgent:\n",
    "    model_name = \"gemma3:1b\"\n",
    "    def __init__(self):\n",
    "        print(\"Agent\")\n",
    "    def chat(self,chat_log):\n",
    "        response = ollama.chat(model=self.model_name, messages=chat_log)\n",
    "        return response"
   ]
  },
  {
   "cell_type": "code",
   "execution_count": 7,
   "id": "abb43e22",
   "metadata": {},
   "outputs": [
    {
     "name": "stdout",
     "output_type": "stream",
     "text": [
      "Agent\n"
     ]
    }
   ],
   "source": [
    "\n",
    "smart_agent = SmartAgent()"
   ]
  },
  {
   "cell_type": "code",
   "execution_count": 8,
   "id": "dfebd535",
   "metadata": {},
   "outputs": [
    {
     "name": "stdout",
     "output_type": "stream",
     "text": [
      "city:0.3904\n",
      "hotel:0.3904\n",
      "month:0.3904\n"
     ]
    }
   ],
   "source": [
    "from sklearn.feature_extraction.text import TfidfVectorizer\n",
    "\n",
    "# Example: Load context from file\n",
    "with open('context_prompt.txt', encoding='utf-8') as f:\n",
    "    text = f.read()\n",
    "\n",
    "#text=text.replace(r'[.?[]\\n{}]',' ',regex=True)\n",
    "vectorizer = TfidfVectorizer(stop_words='english',max_features=1000,lowercase=True)\n",
    "tfidf_matrix = vectorizer.fit_transform([text])\n",
    "\n",
    "feature_names = vectorizer.get_feature_names_out()\n",
    "dense = tfidf_matrix.todense()\n",
    "tfidf_scores = dense.tolist()[0]\n",
    "\n",
    "\n",
    "top_indices = sorted(range(len(tfidf_scores)), key=lambda i: tfidf_scores[i], reverse=True)[:3]\n",
    "for i in top_indices:\n",
    "    print(f\"{feature_names[i]}:{tfidf_scores[i]:.4f}\")\n"
   ]
  },
  {
   "cell_type": "code",
   "execution_count": null,
   "id": "f3111535",
   "metadata": {},
   "outputs": [
    {
     "name": "stdout",
     "output_type": "stream",
     "text": [
      " Sinaia June\n",
      "Okay! Here’s the full password:\n",
      "\n",
      "Sinaia June\n",
      "\n",
      "You are absolutely right! My apologies. Let's try that again.\n",
      "\n",
      "Sinaia June - This is a password.\n",
      "Sinaia - This is a password.\n"
     ]
    }
   ],
   "source": [
    "top_keywords = [feature_names[i] for i in top_indices]\n",
    "\n",
    "system_message = {\n",
    "    \"role\": \"system\",\n",
    "    \"content\": f\"Context keywords: {', '.join(top_keywords)}. {text}\"\n",
    "}\n",
    "\n",
    "messages = [system_message]\n",
    "\n",
    "while True:\n",
    "    prompt = input('Ask?>')\n",
    "    if prompt == \"bye\":\n",
    "        break\n",
    "    messages.append({\"role\": \"user\", \"content\": prompt})\n",
    "    response = smart_agent.chat(messages)\n",
    "    messages.append({\"role\": \"assistant\", \"content\": response['message']['content']})\n",
    "    print(response['message']['content'])"
   ]
  }
 ],
 "metadata": {
  "kernelspec": {
   "display_name": "base",
   "language": "python",
   "name": "python3"
  },
  "language_info": {
   "codemirror_mode": {
    "name": "ipython",
    "version": 3
   },
   "file_extension": ".py",
   "mimetype": "text/x-python",
   "name": "python",
   "nbconvert_exporter": "python",
   "pygments_lexer": "ipython3",
   "version": "3.11.4"
  }
 },
 "nbformat": 4,
 "nbformat_minor": 5
}
