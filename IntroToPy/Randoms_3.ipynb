{
 "cells": [
  {
   "cell_type": "markdown",
   "id": "4344793e",
   "metadata": {},
   "source": [
    "This notebook loads a data set of random numbers and prints various statistics."
   ]
  },
  {
   "cell_type": "code",
   "execution_count": null,
   "id": "6eb56257",
   "metadata": {},
   "outputs": [
    {
     "name": "stdout",
     "output_type": "stream",
     "text": [
      "Requirement already satisfied: matplotlib in c:\\users\\andre\\appdata\\local\\programs\\python\\python313\\lib\\site-packages (3.10.3)\n",
      "Requirement already satisfied: contourpy>=1.0.1 in c:\\users\\andre\\appdata\\local\\programs\\python\\python313\\lib\\site-packages (from matplotlib) (1.3.2)\n",
      "Requirement already satisfied: cycler>=0.10 in c:\\users\\andre\\appdata\\local\\programs\\python\\python313\\lib\\site-packages (from matplotlib) (0.12.1)\n",
      "Requirement already satisfied: fonttools>=4.22.0 in c:\\users\\andre\\appdata\\local\\programs\\python\\python313\\lib\\site-packages (from matplotlib) (4.59.0)\n",
      "Requirement already satisfied: kiwisolver>=1.3.1 in c:\\users\\andre\\appdata\\local\\programs\\python\\python313\\lib\\site-packages (from matplotlib) (1.4.8)\n",
      "Requirement already satisfied: numpy>=1.23 in c:\\users\\andre\\appdata\\local\\programs\\python\\python313\\lib\\site-packages (from matplotlib) (2.3.1)\n",
      "Requirement already satisfied: packaging>=20.0 in c:\\users\\andre\\appdata\\roaming\\python\\python313\\site-packages (from matplotlib) (25.0)\n",
      "Requirement already satisfied: pillow>=8 in c:\\users\\andre\\appdata\\local\\programs\\python\\python313\\lib\\site-packages (from matplotlib) (11.3.0)\n",
      "Requirement already satisfied: pyparsing>=2.3.1 in c:\\users\\andre\\appdata\\local\\programs\\python\\python313\\lib\\site-packages (from matplotlib) (3.2.3)\n",
      "Requirement already satisfied: python-dateutil>=2.7 in c:\\users\\andre\\appdata\\roaming\\python\\python313\\site-packages (from matplotlib) (2.9.0.post0)\n",
      "Requirement already satisfied: six>=1.5 in c:\\users\\andre\\appdata\\roaming\\python\\python313\\site-packages (from python-dateutil>=2.7->matplotlib) (1.17.0)\n",
      "Note: you may need to restart the kernel to use updated packages.\n"
     ]
    }
   ],
   "source": [
    "from Randoms_2 import load_randoms\n",
    "import statistics\n",
    "import matplotlib.pyplot as plt\n",
    "import numpy as np\n"
   ]
  },
  {
   "cell_type": "code",
   "execution_count": null,
   "id": "bc057782",
   "metadata": {},
   "outputs": [],
   "source": []
  },
  {
   "cell_type": "markdown",
   "id": "29656d3a",
   "metadata": {},
   "source": [
    "Read the text file \"randoms_db.txt\" where each line is a random value followed by the indexes where it occurred. Note that unlike a regular py script which is running in the VSCode workspace folder, ipynb files are running in the folder where it resides. Hence the dataset file is referenced relative to that."
   ]
  },
  {
   "cell_type": "code",
   "execution_count": 2,
   "id": "4fee425f",
   "metadata": {},
   "outputs": [
    {
     "name": "stdout",
     "output_type": "stream",
     "text": [
      "Loaded 44 unique random generated in a sequence of 100 iterations\n"
     ]
    }
   ],
   "source": [
    "randoms_map, count = load_randoms(\"randoms_db.txt\")\n",
    "print(f\"Loaded {len(randoms_map.keys())} unique random generated in a sequence of {count} iterations\")"
   ]
  },
  {
   "cell_type": "markdown",
   "id": "3796d55f",
   "metadata": {},
   "source": [
    "Print a few statistics: min, max random values,  mean, median(aka average) and standard deviation (aka stdev) of the sequence."
   ]
  },
  {
   "cell_type": "code",
   "execution_count": 4,
   "id": "864b67fa",
   "metadata": {},
   "outputs": [
    {
     "name": "stdout",
     "output_type": "stream",
     "text": [
      "Count of unique randoms: 44\n",
      "Min random: 15; Max random: 65\n",
      "Mean of the sequence: 40.77272727272727\n",
      "Median of the sequence: 41.5\n",
      "Standard Deviation of the sequence: 14.729915196338773\n"
     ]
    }
   ],
   "source": [
    "print(f\"Count of unique randoms: {len(randoms_map.keys())}\")\n",
    "sorted_randoms = sorted(randoms_map.keys())\n",
    "print(f\"Min random: {sorted_randoms[0]}; Max random: {sorted_randoms[-1]}\")\n",
    "print(f\"Mean of the sequence: {statistics.mean(randoms_map.keys())}\")\n",
    "print(f\"Median of the sequence: {statistics.median(randoms_map.keys())}\")\n",
    "print(f\"Standard Deviation of the sequence: {statistics.stdev(sorted_randoms)}\")"
   ]
  },
  {
   "cell_type": "markdown",
   "id": "39ce53eb",
   "metadata": {},
   "source": [
    "Read from the input the desired topN count of most frequent randoms that should be printed.\n",
    "Then, store in an array all the randoms along with their individual count. Each entry in the array is an object with two fields:\n",
    "- _value_: the random value\n",
    "- _count_: the value's frequency or count of occurrences in the sequence. \n",
    "In the end the array is sorted in the descending order of each object's _count_ value and the first topN are printed out."
   ]
  },
  {
   "cell_type": "code",
   "execution_count": null,
   "id": "7aeb2cbc",
   "metadata": {},
   "outputs": [],
   "source": [
    "topN = int(input(\"Count of most frequent numbers?> \"))\n",
    "randoms_array = []\n",
    "for random_value in randoms_map.keys():\n",
    "    randoms_array.append({\"value\" : random_value, \"count\" : len(randoms_map[random_value])}) \n",
    "randoms_array.sort(key=lambda x: x[\"count\"], reverse=True)"
   ]
  },
  {
   "cell_type": "markdown",
   "id": "cfe877da",
   "metadata": {},
   "source": [
    "Use a lambda expresion to map the first _topN_ objects from the sorted array to a string showing a random value and the count of its occurrences in the sequence. \n",
    "Join these strings together, each a new line, then print the resulting text."
   ]
  },
  {
   "cell_type": "code",
   "execution_count": null,
   "id": "c4aceec9",
   "metadata": {},
   "outputs": [],
   "source": [
    "lines = [\n",
    "    f'random {r[\"value\"]} occurred {r[\"count\"]} times'\n",
    "    for r in randoms_array[:topN]\n",
    "]\n",
    "print(\"\\n\".join(lines))"
   ]
  }
 ],
 "metadata": {
  "kernelspec": {
   "display_name": "base",
   "language": "python",
   "name": "python3"
  },
  "language_info": {
   "codemirror_mode": {
    "name": "ipython",
    "version": 3
   },
   "file_extension": ".py",
   "mimetype": "text/x-python",
   "name": "python",
   "nbconvert_exporter": "python",
   "pygments_lexer": "ipython3",
   "version": "3.11.4"
  }
 },
 "nbformat": 4,
 "nbformat_minor": 5
}
